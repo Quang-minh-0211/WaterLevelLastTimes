{
 "cells": [
  {
   "cell_type": "code",
   "execution_count": 1,
   "id": "8cc1923b",
   "metadata": {},
   "outputs": [],
   "source": [
    "import pandas as pd\n",
    "import numpy as np\n",
    "from sklearn.preprocessing import MinMaxScaler\n",
    "from sklearn.model_selection import ParameterGrid\n",
    "from sklearn.metrics import mean_squared_error\n",
    "\n",
    "import torch\n",
    "import torch.nn as nn\n",
    "import torch.optim as optim\n",
    "from torch.utils.data import DataLoader, TensorDataset\n",
    "import copy"
   ]
  },
  {
   "cell_type": "code",
   "execution_count": 2,
   "id": "c2ca62e7",
   "metadata": {},
   "outputs": [],
   "source": [
    "# Load and prepare data\n",
    "df = pd.read_csv('../data/mucnuoc_gio_preprocess.csv')\n",
    "df['date'] = pd.to_datetime(df['date'])\n",
    "df = df.sort_values('date').reset_index(drop=True)\n",
    "\n",
    "# Setup features and target\n",
    "features = ['q64']  # Use all features for input\n",
    "target = 'q64'  # Target feature for prediction"
   ]
  },
  {
   "cell_type": "code",
   "execution_count": 3,
   "id": "f23c4f69",
   "metadata": {},
   "outputs": [],
   "source": [
    "# Normalize data\n",
    "scaler_X = MinMaxScaler()\n",
    "scaler_y = MinMaxScaler()\n",
    "\n",
    "# Scale all features for X\n",
    "scaled_data = scaler_X.fit_transform(df[features])\n",
    "\n",
    "# Scale only target feature for y (important for inverse transform)\n",
    "target_data = scaler_y.fit_transform(df[[target]])\n"
   ]
  },
  {
   "cell_type": "code",
   "execution_count": 54,
   "id": "6a27954b",
   "metadata": {},
   "outputs": [
    {
     "name": "stdout",
     "output_type": "stream",
     "text": [
      "📊 Data shape: X=(47144, 180, 1), y=(47144, 180)\n"
     ]
    }
   ],
   "source": [
    "# Prepare sequences\n",
    "X, y = [], []\n",
    "target_idx = features.index(target)\n",
    "past_window = 180\n",
    "future_window = 180\n",
    "\n",
    "for i in range(len(scaled_data) - past_window - future_window + 1):\n",
    "    # Input: past_window timesteps with all features\n",
    "    X_window = scaled_data[i:i+past_window]\n",
    "    \n",
    "    # Output: future_window timesteps with only target feature\n",
    "    # Use target_data (scaled separately) instead of scaled_data\n",
    "    y_sequence = target_data[i+past_window:i+past_window+future_window].flatten()\n",
    "    \n",
    "    X.append(X_window)\n",
    "    y.append(y_sequence)\n",
    "\n",
    "X = np.array(X, dtype=np.float32)  # Shape: (samples, past_window, n_features)\n",
    "y = np.array(y, dtype=np.float32)  # Shape: (samples, future_window)\n",
    "\n",
    "print(f\"📊 Data shape: X={X.shape}, y={y.shape}\")"
   ]
  },
  {
   "cell_type": "code",
   "execution_count": 55,
   "id": "1777dc1c",
   "metadata": {},
   "outputs": [
    {
     "name": "stdout",
     "output_type": "stream",
     "text": [
      "📊 Train shape: X_train=(37715, 180, 1), y_train=(37715, 180)\n",
      "📊 Test shape: X_test=(9429, 180, 1), y_test=(9429, 180)\n"
     ]
    }
   ],
   "source": [
    "# Train/test split\n",
    "split_idx = int(len(X) * 0.8)\n",
    "X_train, X_test = X[:split_idx], X[split_idx:]\n",
    "y_train, y_test = y[:split_idx], y[split_idx:]\n",
    "\n",
    "print(f\"📊 Train shape: X_train={X_train.shape}, y_train={y_train.shape}\")\n",
    "print(f\"📊 Test shape: X_test={X_test.shape}, y_test={y_test.shape}\")"
   ]
  },
  {
   "cell_type": "code",
   "execution_count": 56,
   "id": "fddfe148",
   "metadata": {},
   "outputs": [],
   "source": [
    "param_grid = {\n",
    "    'batch_size': [32, 64],\n",
    "    'epochs': [20, 30],\n",
    "    'learning_rate': [0.001, 0.01],\n",
    "    'num_units': [32, 64],\n",
    "    'dropout_rate': [0.2, 0.3]\n",
    "}"
   ]
  },
  {
   "cell_type": "code",
   "execution_count": 57,
   "id": "4de6b83f",
   "metadata": {},
   "outputs": [],
   "source": [
    "# LSTM Model\n",
    "class LSTMModel(nn.Module):\n",
    "    def __init__(self, input_size, hidden1=64, hidden2=32, output_size=1, dropout_rate=0.1):\n",
    "        super(LSTMModel, self).__init__()\n",
    "        self.lstm1 = nn.LSTM(input_size, hidden1, batch_first=True, dropout=dropout_rate if hidden1 > 1 else 0)\n",
    "        self.lstm2 = nn.LSTM(hidden1, hidden2, batch_first=True, dropout=dropout_rate if hidden2 > 1 else 0)\n",
    "        self.dropout = nn.Dropout(dropout_rate)\n",
    "        self.fc1 = nn.Linear(hidden2, 64)\n",
    "        self.relu = nn.ReLU()\n",
    "        self.fc2 = nn.Linear(64, output_size)\n",
    "        \n",
    "    def forward(self, x):\n",
    "        # First LSTM layer\n",
    "        out, (h1, c1) = self.lstm1(x)\n",
    "        \n",
    "        # Second LSTM layer\n",
    "        out, (h2, c2) = self.lstm2(out)\n",
    "        \n",
    "        # Take the last timestep\n",
    "        out = out[:, -1, :]\n",
    "        \n",
    "        # Apply dropout\n",
    "        out = self.dropout(out)\n",
    "        \n",
    "        # Fully connected layers\n",
    "        out = self.relu(self.fc1(out))\n",
    "        out = self.fc2(out)\n",
    "        \n",
    "        return out"
   ]
  },
  {
   "cell_type": "code",
   "execution_count": 58,
   "id": "e02fd372",
   "metadata": {},
   "outputs": [],
   "source": [
    "# Early stopping class for PyTorch\n",
    "class EarlyStopping:\n",
    "    def __init__(self, patience=5, min_delta=0, restore_best_weights=True):\n",
    "        self.patience = patience\n",
    "        self.min_delta = min_delta\n",
    "        self.restore_best_weights = restore_best_weights\n",
    "        self.best_loss = None\n",
    "        self.counter = 0\n",
    "        self.best_weights = None\n",
    "        \n",
    "    def __call__(self, val_loss, model):\n",
    "        if self.best_loss is None:\n",
    "            self.best_loss = val_loss\n",
    "            self.save_checkpoint(model)\n",
    "        elif val_loss < self.best_loss - self.min_delta:\n",
    "            self.best_loss = val_loss\n",
    "            self.counter = 0\n",
    "            self.save_checkpoint(model)\n",
    "        else:\n",
    "            self.counter += 1\n",
    "            \n",
    "        if self.counter >= self.patience:\n",
    "            if self.restore_best_weights:\n",
    "                model.load_state_dict(self.best_weights)\n",
    "            return True\n",
    "        return False\n",
    "    \n",
    "    def save_checkpoint(self, model):\n",
    "        self.best_weights = copy.deepcopy(model.state_dict())\n",
    "\n",
    "# Training function\n",
    "def train_model(model, train_loader, val_loader, epochs, learning_rate, early_stopping=None):\n",
    "    device = torch.device('cuda' if torch.cuda.is_available() else 'cpu')\n",
    "    model = model.to(device)\n",
    "    \n",
    "    criterion = nn.MSELoss()\n",
    "    optimizer = optim.Adam(model.parameters(), lr=learning_rate)\n",
    "    \n",
    "    train_losses = []\n",
    "    val_losses = []\n",
    "    \n",
    "    for epoch in range(epochs):\n",
    "        # Training phase\n",
    "        model.train()\n",
    "        train_loss = 0.0\n",
    "        for batch_x, batch_y in train_loader:\n",
    "            batch_x, batch_y = batch_x.to(device), batch_y.to(device)\n",
    "            \n",
    "            optimizer.zero_grad()\n",
    "            outputs = model(batch_x)\n",
    "            loss = criterion(outputs, batch_y)\n",
    "            loss.backward()\n",
    "            \n",
    "            # Gradient clipping to prevent exploding gradients (common with LSTMs)\n",
    "            torch.nn.utils.clip_grad_norm_(model.parameters(), max_norm=1.0)\n",
    "            \n",
    "            optimizer.step()\n",
    "            train_loss += loss.item()\n",
    "        \n",
    "        train_loss /= len(train_loader)\n",
    "        train_losses.append(train_loss)\n",
    "        \n",
    "        # Validation phase\n",
    "        model.eval()\n",
    "        val_loss = 0.0\n",
    "        with torch.no_grad():\n",
    "            for batch_x, batch_y in val_loader:\n",
    "                batch_x, batch_y = batch_x.to(device), batch_y.to(device)\n",
    "                outputs = model(batch_x)\n",
    "                loss = criterion(outputs, batch_y)\n",
    "                val_loss += loss.item()\n",
    "        \n",
    "        val_loss /= len(val_loader)\n",
    "        val_losses.append(val_loss)\n",
    "        \n",
    "        # Early stopping check\n",
    "        if early_stopping is not None:\n",
    "            if early_stopping(val_loss, model):\n",
    "                print(f\"   Early stopping at epoch {epoch+1}\")\n",
    "                break\n",
    "    \n",
    "    return train_losses, val_losses\n",
    "\n",
    "# Model creation function\n",
    "def create_lstm_model(num_units, learning_rate, dropout_rate, input_size, output_dim):\n",
    "    model = LSTMModel(\n",
    "        input_size=input_size,\n",
    "        hidden1=num_units,\n",
    "        hidden2=num_units//2,  # You can adjust this ratio\n",
    "        output_size=output_dim,\n",
    "        dropout_rate=dropout_rate\n",
    "    )\n",
    "    return model\n",
    "\n",
    "# Convert data to PyTorch tensors\n",
    "def prepare_data(X_train, y_train, X_test, y_test, batch_size, validation_split=0.2):\n",
    "    # Convert to PyTorch tensors\n",
    "    X_train_tensor = torch.FloatTensor(X_train)\n",
    "    y_train_tensor = torch.FloatTensor(y_train)\n",
    "    X_test_tensor = torch.FloatTensor(X_test)\n",
    "    y_test_tensor = torch.FloatTensor(y_test)\n",
    "    \n",
    "    # Split training data for validation\n",
    "    val_size = int(len(X_train_tensor) * validation_split)\n",
    "    train_size = len(X_train_tensor) - val_size\n",
    "    \n",
    "    # Create validation split\n",
    "    X_train_split = X_train_tensor[:train_size]\n",
    "    y_train_split = y_train_tensor[:train_size]\n",
    "    X_val_split = X_train_tensor[train_size:]\n",
    "    y_val_split = y_train_tensor[train_size:]\n",
    "    \n",
    "    # Create datasets and dataloaders\n",
    "    train_dataset = TensorDataset(X_train_split, y_train_split)\n",
    "    val_dataset = TensorDataset(X_val_split, y_val_split)\n",
    "    test_dataset = TensorDataset(X_test_tensor, y_test_tensor)\n",
    "    \n",
    "    train_loader = DataLoader(train_dataset, batch_size=batch_size, shuffle=True)\n",
    "    val_loader = DataLoader(val_dataset, batch_size=batch_size, shuffle=False)\n",
    "    test_loader = DataLoader(test_dataset, batch_size=batch_size, shuffle=False)\n",
    "    \n",
    "    return train_loader, val_loader, test_loader, X_test_tensor, y_test_tensor\n",
    "\n",
    "# Grid search with proper model recreation\n",
    "def lstm_grid_search(param_grid, X_train, y_train, X_test, y_test, input_size, future_window):\n",
    "    best_params = None\n",
    "    best_score = float('inf')\n",
    "    best_model = None\n",
    "    device = torch.device('cuda' if torch.cuda.is_available() else 'cpu')\n",
    "    \n",
    "    print(\"🔍 Starting LSTM Grid Search...\")\n",
    "    total_combinations = len(list(ParameterGrid(param_grid)))\n",
    "    current_combination = 0\n",
    "    \n",
    "    for params in ParameterGrid(param_grid):\n",
    "        current_combination += 1\n",
    "        print(f\"\\n📈 Testing combination {current_combination}/{total_combinations}: {params}\")\n",
    "        \n",
    "        # Create new LSTM model for each parameter combination\n",
    "        model = create_lstm_model(\n",
    "            num_units=params['num_units'],\n",
    "            learning_rate=params['learning_rate'],\n",
    "            dropout_rate=params['dropout_rate'],\n",
    "            input_size=input_size,\n",
    "            output_dim=future_window\n",
    "        )\n",
    "        \n",
    "        # Prepare data loaders\n",
    "        train_loader, val_loader, test_loader, X_test_tensor, y_test_tensor = prepare_data(\n",
    "            X_train, y_train, X_test, y_test, \n",
    "            batch_size=params['batch_size'], \n",
    "            validation_split=0.2\n",
    "        )\n",
    "        \n",
    "        # Early stopping to prevent overfitting\n",
    "        early_stop = EarlyStopping(patience=5, restore_best_weights=True)\n",
    "        \n",
    "        # Train model\n",
    "        try:\n",
    "            train_losses, val_losses = train_model(\n",
    "                model=model,\n",
    "                train_loader=train_loader,\n",
    "                val_loader=val_loader,\n",
    "                epochs=params['epochs'],\n",
    "                learning_rate=params['learning_rate'],\n",
    "                early_stopping=early_stop\n",
    "            )\n",
    "            \n",
    "            # Evaluate on test set\n",
    "            model.eval()\n",
    "            model = model.to(device)\n",
    "            y_pred_list = []\n",
    "            \n",
    "            with torch.no_grad():\n",
    "                for batch_x, _ in test_loader:\n",
    "                    batch_x = batch_x.to(device)\n",
    "                    outputs = model(batch_x)\n",
    "                    y_pred_list.append(outputs.cpu().numpy())\n",
    "            \n",
    "            y_pred = np.concatenate(y_pred_list, axis=0)\n",
    "            mse = mean_squared_error(y_test, y_pred)\n",
    "            print(f\"   MSE: {mse:.6f}\")\n",
    "            \n",
    "            # Update best parameters\n",
    "            if mse < best_score:\n",
    "                best_score = mse\n",
    "                best_params = params.copy()\n",
    "                best_model = copy.deepcopy(model.state_dict())\n",
    "                print(f\"   🎯 New best score!\")\n",
    "                \n",
    "        except Exception as e:\n",
    "            print(f\"   ❌ Error training model: {e}\")\n",
    "            continue\n",
    "    \n",
    "    print(f\"\\n🏆 Best Parameters: {best_params}\")\n",
    "    print(f\"🏆 Best MSE: {best_score:.6f}\")\n",
    "    \n",
    "    return best_params, best_score, best_model\n"
   ]
  },
  {
   "cell_type": "code",
   "execution_count": 59,
   "id": "7ec54d1b",
   "metadata": {},
   "outputs": [
    {
     "name": "stdout",
     "output_type": "stream",
     "text": [
      "🔍 Starting LSTM Grid Search...\n",
      "\n",
      "📈 Testing combination 1/32: {'batch_size': 32, 'dropout_rate': 0.2, 'epochs': 20, 'learning_rate': 0.001, 'num_units': 32}\n"
     ]
    },
    {
     "name": "stderr",
     "output_type": "stream",
     "text": [
      "/home/qminh/miniconda3/envs/testtorch/lib/python3.10/site-packages/torch/nn/modules/rnn.py:123: UserWarning: dropout option adds dropout after all but last recurrent layer, so non-zero dropout expects num_layers greater than 1, but got dropout=0.2 and num_layers=1\n",
      "  warnings.warn(\n"
     ]
    },
    {
     "name": "stdout",
     "output_type": "stream",
     "text": [
      "   Early stopping at epoch 10\n",
      "   MSE: 0.016578\n",
      "   🎯 New best score!\n",
      "\n",
      "📈 Testing combination 2/32: {'batch_size': 32, 'dropout_rate': 0.2, 'epochs': 20, 'learning_rate': 0.001, 'num_units': 64}\n"
     ]
    },
    {
     "name": "stderr",
     "output_type": "stream",
     "text": [
      "/home/qminh/miniconda3/envs/testtorch/lib/python3.10/site-packages/torch/nn/modules/rnn.py:123: UserWarning: dropout option adds dropout after all but last recurrent layer, so non-zero dropout expects num_layers greater than 1, but got dropout=0.2 and num_layers=1\n",
      "  warnings.warn(\n"
     ]
    },
    {
     "name": "stdout",
     "output_type": "stream",
     "text": [
      "   Early stopping at epoch 6\n",
      "   MSE: 0.002257\n",
      "   🎯 New best score!\n",
      "\n",
      "📈 Testing combination 3/32: {'batch_size': 32, 'dropout_rate': 0.2, 'epochs': 20, 'learning_rate': 0.01, 'num_units': 32}\n"
     ]
    },
    {
     "name": "stderr",
     "output_type": "stream",
     "text": [
      "/home/qminh/miniconda3/envs/testtorch/lib/python3.10/site-packages/torch/nn/modules/rnn.py:123: UserWarning: dropout option adds dropout after all but last recurrent layer, so non-zero dropout expects num_layers greater than 1, but got dropout=0.2 and num_layers=1\n",
      "  warnings.warn(\n"
     ]
    },
    {
     "name": "stdout",
     "output_type": "stream",
     "text": [
      "   Early stopping at epoch 6\n",
      "   MSE: 0.001388\n",
      "   🎯 New best score!\n",
      "\n",
      "📈 Testing combination 4/32: {'batch_size': 32, 'dropout_rate': 0.2, 'epochs': 20, 'learning_rate': 0.01, 'num_units': 64}\n"
     ]
    },
    {
     "name": "stderr",
     "output_type": "stream",
     "text": [
      "/home/qminh/miniconda3/envs/testtorch/lib/python3.10/site-packages/torch/nn/modules/rnn.py:123: UserWarning: dropout option adds dropout after all but last recurrent layer, so non-zero dropout expects num_layers greater than 1, but got dropout=0.2 and num_layers=1\n",
      "  warnings.warn(\n"
     ]
    },
    {
     "name": "stdout",
     "output_type": "stream",
     "text": [
      "   Early stopping at epoch 8\n",
      "   MSE: 0.004994\n",
      "\n",
      "📈 Testing combination 5/32: {'batch_size': 32, 'dropout_rate': 0.2, 'epochs': 30, 'learning_rate': 0.001, 'num_units': 32}\n"
     ]
    },
    {
     "name": "stderr",
     "output_type": "stream",
     "text": [
      "/home/qminh/miniconda3/envs/testtorch/lib/python3.10/site-packages/torch/nn/modules/rnn.py:123: UserWarning: dropout option adds dropout after all but last recurrent layer, so non-zero dropout expects num_layers greater than 1, but got dropout=0.2 and num_layers=1\n",
      "  warnings.warn(\n"
     ]
    },
    {
     "name": "stdout",
     "output_type": "stream",
     "text": [
      "   Early stopping at epoch 6\n",
      "   MSE: 0.008890\n",
      "\n",
      "📈 Testing combination 6/32: {'batch_size': 32, 'dropout_rate': 0.2, 'epochs': 30, 'learning_rate': 0.001, 'num_units': 64}\n"
     ]
    },
    {
     "name": "stderr",
     "output_type": "stream",
     "text": [
      "/home/qminh/miniconda3/envs/testtorch/lib/python3.10/site-packages/torch/nn/modules/rnn.py:123: UserWarning: dropout option adds dropout after all but last recurrent layer, so non-zero dropout expects num_layers greater than 1, but got dropout=0.2 and num_layers=1\n",
      "  warnings.warn(\n"
     ]
    },
    {
     "name": "stdout",
     "output_type": "stream",
     "text": [
      "   Early stopping at epoch 6\n",
      "   MSE: 0.004647\n",
      "\n",
      "📈 Testing combination 7/32: {'batch_size': 32, 'dropout_rate': 0.2, 'epochs': 30, 'learning_rate': 0.01, 'num_units': 32}\n"
     ]
    },
    {
     "name": "stderr",
     "output_type": "stream",
     "text": [
      "/home/qminh/miniconda3/envs/testtorch/lib/python3.10/site-packages/torch/nn/modules/rnn.py:123: UserWarning: dropout option adds dropout after all but last recurrent layer, so non-zero dropout expects num_layers greater than 1, but got dropout=0.2 and num_layers=1\n",
      "  warnings.warn(\n"
     ]
    },
    {
     "name": "stdout",
     "output_type": "stream",
     "text": [
      "   Early stopping at epoch 7\n",
      "   MSE: 0.001060\n",
      "   🎯 New best score!\n",
      "\n",
      "📈 Testing combination 8/32: {'batch_size': 32, 'dropout_rate': 0.2, 'epochs': 30, 'learning_rate': 0.01, 'num_units': 64}\n"
     ]
    },
    {
     "name": "stderr",
     "output_type": "stream",
     "text": [
      "/home/qminh/miniconda3/envs/testtorch/lib/python3.10/site-packages/torch/nn/modules/rnn.py:123: UserWarning: dropout option adds dropout after all but last recurrent layer, so non-zero dropout expects num_layers greater than 1, but got dropout=0.2 and num_layers=1\n",
      "  warnings.warn(\n"
     ]
    },
    {
     "name": "stdout",
     "output_type": "stream",
     "text": [
      "   Early stopping at epoch 13\n",
      "   MSE: 0.017602\n",
      "\n",
      "📈 Testing combination 9/32: {'batch_size': 32, 'dropout_rate': 0.3, 'epochs': 20, 'learning_rate': 0.001, 'num_units': 32}\n"
     ]
    },
    {
     "name": "stderr",
     "output_type": "stream",
     "text": [
      "/home/qminh/miniconda3/envs/testtorch/lib/python3.10/site-packages/torch/nn/modules/rnn.py:123: UserWarning: dropout option adds dropout after all but last recurrent layer, so non-zero dropout expects num_layers greater than 1, but got dropout=0.3 and num_layers=1\n",
      "  warnings.warn(\n"
     ]
    },
    {
     "name": "stdout",
     "output_type": "stream",
     "text": [
      "   Early stopping at epoch 6\n",
      "   MSE: 0.014630\n",
      "\n",
      "📈 Testing combination 10/32: {'batch_size': 32, 'dropout_rate': 0.3, 'epochs': 20, 'learning_rate': 0.001, 'num_units': 64}\n"
     ]
    },
    {
     "name": "stderr",
     "output_type": "stream",
     "text": [
      "/home/qminh/miniconda3/envs/testtorch/lib/python3.10/site-packages/torch/nn/modules/rnn.py:123: UserWarning: dropout option adds dropout after all but last recurrent layer, so non-zero dropout expects num_layers greater than 1, but got dropout=0.3 and num_layers=1\n",
      "  warnings.warn(\n"
     ]
    },
    {
     "name": "stdout",
     "output_type": "stream",
     "text": [
      "   Early stopping at epoch 7\n",
      "   MSE: 0.003649\n",
      "\n",
      "📈 Testing combination 11/32: {'batch_size': 32, 'dropout_rate': 0.3, 'epochs': 20, 'learning_rate': 0.01, 'num_units': 32}\n"
     ]
    },
    {
     "name": "stderr",
     "output_type": "stream",
     "text": [
      "/home/qminh/miniconda3/envs/testtorch/lib/python3.10/site-packages/torch/nn/modules/rnn.py:123: UserWarning: dropout option adds dropout after all but last recurrent layer, so non-zero dropout expects num_layers greater than 1, but got dropout=0.3 and num_layers=1\n",
      "  warnings.warn(\n"
     ]
    },
    {
     "name": "stdout",
     "output_type": "stream",
     "text": [
      "   Early stopping at epoch 7\n",
      "   MSE: 0.008963\n",
      "\n",
      "📈 Testing combination 12/32: {'batch_size': 32, 'dropout_rate': 0.3, 'epochs': 20, 'learning_rate': 0.01, 'num_units': 64}\n"
     ]
    },
    {
     "name": "stderr",
     "output_type": "stream",
     "text": [
      "/home/qminh/miniconda3/envs/testtorch/lib/python3.10/site-packages/torch/nn/modules/rnn.py:123: UserWarning: dropout option adds dropout after all but last recurrent layer, so non-zero dropout expects num_layers greater than 1, but got dropout=0.3 and num_layers=1\n",
      "  warnings.warn(\n"
     ]
    },
    {
     "name": "stdout",
     "output_type": "stream",
     "text": [
      "   Early stopping at epoch 10\n",
      "   MSE: 0.001069\n",
      "\n",
      "📈 Testing combination 13/32: {'batch_size': 32, 'dropout_rate': 0.3, 'epochs': 30, 'learning_rate': 0.001, 'num_units': 32}\n"
     ]
    },
    {
     "name": "stderr",
     "output_type": "stream",
     "text": [
      "/home/qminh/miniconda3/envs/testtorch/lib/python3.10/site-packages/torch/nn/modules/rnn.py:123: UserWarning: dropout option adds dropout after all but last recurrent layer, so non-zero dropout expects num_layers greater than 1, but got dropout=0.3 and num_layers=1\n",
      "  warnings.warn(\n"
     ]
    },
    {
     "name": "stdout",
     "output_type": "stream",
     "text": [
      "   Early stopping at epoch 6\n",
      "   MSE: 0.025814\n",
      "\n",
      "📈 Testing combination 14/32: {'batch_size': 32, 'dropout_rate': 0.3, 'epochs': 30, 'learning_rate': 0.001, 'num_units': 64}\n"
     ]
    },
    {
     "name": "stderr",
     "output_type": "stream",
     "text": [
      "/home/qminh/miniconda3/envs/testtorch/lib/python3.10/site-packages/torch/nn/modules/rnn.py:123: UserWarning: dropout option adds dropout after all but last recurrent layer, so non-zero dropout expects num_layers greater than 1, but got dropout=0.3 and num_layers=1\n",
      "  warnings.warn(\n"
     ]
    },
    {
     "name": "stdout",
     "output_type": "stream",
     "text": [
      "   Early stopping at epoch 7\n",
      "   MSE: 0.001600\n",
      "\n",
      "📈 Testing combination 15/32: {'batch_size': 32, 'dropout_rate': 0.3, 'epochs': 30, 'learning_rate': 0.01, 'num_units': 32}\n"
     ]
    },
    {
     "name": "stderr",
     "output_type": "stream",
     "text": [
      "/home/qminh/miniconda3/envs/testtorch/lib/python3.10/site-packages/torch/nn/modules/rnn.py:123: UserWarning: dropout option adds dropout after all but last recurrent layer, so non-zero dropout expects num_layers greater than 1, but got dropout=0.3 and num_layers=1\n",
      "  warnings.warn(\n"
     ]
    },
    {
     "name": "stdout",
     "output_type": "stream",
     "text": [
      "   Early stopping at epoch 10\n",
      "   MSE: 0.014323\n",
      "\n",
      "📈 Testing combination 16/32: {'batch_size': 32, 'dropout_rate': 0.3, 'epochs': 30, 'learning_rate': 0.01, 'num_units': 64}\n"
     ]
    },
    {
     "name": "stderr",
     "output_type": "stream",
     "text": [
      "/home/qminh/miniconda3/envs/testtorch/lib/python3.10/site-packages/torch/nn/modules/rnn.py:123: UserWarning: dropout option adds dropout after all but last recurrent layer, so non-zero dropout expects num_layers greater than 1, but got dropout=0.3 and num_layers=1\n",
      "  warnings.warn(\n"
     ]
    },
    {
     "name": "stdout",
     "output_type": "stream",
     "text": [
      "   Early stopping at epoch 7\n",
      "   MSE: 0.025922\n",
      "\n",
      "📈 Testing combination 17/32: {'batch_size': 64, 'dropout_rate': 0.2, 'epochs': 20, 'learning_rate': 0.001, 'num_units': 32}\n"
     ]
    },
    {
     "name": "stderr",
     "output_type": "stream",
     "text": [
      "/home/qminh/miniconda3/envs/testtorch/lib/python3.10/site-packages/torch/nn/modules/rnn.py:123: UserWarning: dropout option adds dropout after all but last recurrent layer, so non-zero dropout expects num_layers greater than 1, but got dropout=0.2 and num_layers=1\n",
      "  warnings.warn(\n"
     ]
    },
    {
     "name": "stdout",
     "output_type": "stream",
     "text": [
      "   Early stopping at epoch 6\n",
      "   MSE: 0.010417\n",
      "\n",
      "📈 Testing combination 18/32: {'batch_size': 64, 'dropout_rate': 0.2, 'epochs': 20, 'learning_rate': 0.001, 'num_units': 64}\n"
     ]
    },
    {
     "name": "stderr",
     "output_type": "stream",
     "text": [
      "/home/qminh/miniconda3/envs/testtorch/lib/python3.10/site-packages/torch/nn/modules/rnn.py:123: UserWarning: dropout option adds dropout after all but last recurrent layer, so non-zero dropout expects num_layers greater than 1, but got dropout=0.2 and num_layers=1\n",
      "  warnings.warn(\n"
     ]
    },
    {
     "name": "stdout",
     "output_type": "stream",
     "text": [
      "   Early stopping at epoch 7\n",
      "   MSE: 0.002349\n",
      "\n",
      "📈 Testing combination 19/32: {'batch_size': 64, 'dropout_rate': 0.2, 'epochs': 20, 'learning_rate': 0.01, 'num_units': 32}\n"
     ]
    },
    {
     "name": "stderr",
     "output_type": "stream",
     "text": [
      "/home/qminh/miniconda3/envs/testtorch/lib/python3.10/site-packages/torch/nn/modules/rnn.py:123: UserWarning: dropout option adds dropout after all but last recurrent layer, so non-zero dropout expects num_layers greater than 1, but got dropout=0.2 and num_layers=1\n",
      "  warnings.warn(\n"
     ]
    },
    {
     "name": "stdout",
     "output_type": "stream",
     "text": [
      "   Early stopping at epoch 6\n",
      "   MSE: 0.001970\n",
      "\n",
      "📈 Testing combination 20/32: {'batch_size': 64, 'dropout_rate': 0.2, 'epochs': 20, 'learning_rate': 0.01, 'num_units': 64}\n"
     ]
    },
    {
     "name": "stderr",
     "output_type": "stream",
     "text": [
      "/home/qminh/miniconda3/envs/testtorch/lib/python3.10/site-packages/torch/nn/modules/rnn.py:123: UserWarning: dropout option adds dropout after all but last recurrent layer, so non-zero dropout expects num_layers greater than 1, but got dropout=0.2 and num_layers=1\n",
      "  warnings.warn(\n"
     ]
    },
    {
     "name": "stdout",
     "output_type": "stream",
     "text": [
      "   Early stopping at epoch 6\n",
      "   MSE: 0.001122\n",
      "\n",
      "📈 Testing combination 21/32: {'batch_size': 64, 'dropout_rate': 0.2, 'epochs': 30, 'learning_rate': 0.001, 'num_units': 32}\n"
     ]
    },
    {
     "name": "stderr",
     "output_type": "stream",
     "text": [
      "/home/qminh/miniconda3/envs/testtorch/lib/python3.10/site-packages/torch/nn/modules/rnn.py:123: UserWarning: dropout option adds dropout after all but last recurrent layer, so non-zero dropout expects num_layers greater than 1, but got dropout=0.2 and num_layers=1\n",
      "  warnings.warn(\n"
     ]
    },
    {
     "name": "stdout",
     "output_type": "stream",
     "text": [
      "   Early stopping at epoch 6\n",
      "   MSE: 0.013924\n",
      "\n",
      "📈 Testing combination 22/32: {'batch_size': 64, 'dropout_rate': 0.2, 'epochs': 30, 'learning_rate': 0.001, 'num_units': 64}\n"
     ]
    },
    {
     "name": "stderr",
     "output_type": "stream",
     "text": [
      "/home/qminh/miniconda3/envs/testtorch/lib/python3.10/site-packages/torch/nn/modules/rnn.py:123: UserWarning: dropout option adds dropout after all but last recurrent layer, so non-zero dropout expects num_layers greater than 1, but got dropout=0.2 and num_layers=1\n",
      "  warnings.warn(\n"
     ]
    },
    {
     "name": "stdout",
     "output_type": "stream",
     "text": [
      "   Early stopping at epoch 9\n",
      "   MSE: 0.004580\n",
      "\n",
      "📈 Testing combination 23/32: {'batch_size': 64, 'dropout_rate': 0.2, 'epochs': 30, 'learning_rate': 0.01, 'num_units': 32}\n"
     ]
    },
    {
     "name": "stderr",
     "output_type": "stream",
     "text": [
      "/home/qminh/miniconda3/envs/testtorch/lib/python3.10/site-packages/torch/nn/modules/rnn.py:123: UserWarning: dropout option adds dropout after all but last recurrent layer, so non-zero dropout expects num_layers greater than 1, but got dropout=0.2 and num_layers=1\n",
      "  warnings.warn(\n"
     ]
    },
    {
     "name": "stdout",
     "output_type": "stream",
     "text": [
      "   Early stopping at epoch 6\n",
      "   MSE: 0.001829\n",
      "\n",
      "📈 Testing combination 24/32: {'batch_size': 64, 'dropout_rate': 0.2, 'epochs': 30, 'learning_rate': 0.01, 'num_units': 64}\n"
     ]
    },
    {
     "name": "stderr",
     "output_type": "stream",
     "text": [
      "/home/qminh/miniconda3/envs/testtorch/lib/python3.10/site-packages/torch/nn/modules/rnn.py:123: UserWarning: dropout option adds dropout after all but last recurrent layer, so non-zero dropout expects num_layers greater than 1, but got dropout=0.2 and num_layers=1\n",
      "  warnings.warn(\n"
     ]
    },
    {
     "name": "stdout",
     "output_type": "stream",
     "text": [
      "   Early stopping at epoch 7\n",
      "   MSE: 0.001082\n",
      "\n",
      "📈 Testing combination 25/32: {'batch_size': 64, 'dropout_rate': 0.3, 'epochs': 20, 'learning_rate': 0.001, 'num_units': 32}\n"
     ]
    },
    {
     "name": "stderr",
     "output_type": "stream",
     "text": [
      "/home/qminh/miniconda3/envs/testtorch/lib/python3.10/site-packages/torch/nn/modules/rnn.py:123: UserWarning: dropout option adds dropout after all but last recurrent layer, so non-zero dropout expects num_layers greater than 1, but got dropout=0.3 and num_layers=1\n",
      "  warnings.warn(\n"
     ]
    },
    {
     "name": "stdout",
     "output_type": "stream",
     "text": [
      "   Early stopping at epoch 6\n",
      "   MSE: 0.038373\n",
      "\n",
      "📈 Testing combination 26/32: {'batch_size': 64, 'dropout_rate': 0.3, 'epochs': 20, 'learning_rate': 0.001, 'num_units': 64}\n"
     ]
    },
    {
     "name": "stderr",
     "output_type": "stream",
     "text": [
      "/home/qminh/miniconda3/envs/testtorch/lib/python3.10/site-packages/torch/nn/modules/rnn.py:123: UserWarning: dropout option adds dropout after all but last recurrent layer, so non-zero dropout expects num_layers greater than 1, but got dropout=0.3 and num_layers=1\n",
      "  warnings.warn(\n"
     ]
    },
    {
     "name": "stdout",
     "output_type": "stream",
     "text": [
      "   Early stopping at epoch 7\n",
      "   MSE: 0.001153\n",
      "\n",
      "📈 Testing combination 27/32: {'batch_size': 64, 'dropout_rate': 0.3, 'epochs': 20, 'learning_rate': 0.01, 'num_units': 32}\n"
     ]
    },
    {
     "name": "stderr",
     "output_type": "stream",
     "text": [
      "/home/qminh/miniconda3/envs/testtorch/lib/python3.10/site-packages/torch/nn/modules/rnn.py:123: UserWarning: dropout option adds dropout after all but last recurrent layer, so non-zero dropout expects num_layers greater than 1, but got dropout=0.3 and num_layers=1\n",
      "  warnings.warn(\n"
     ]
    },
    {
     "name": "stdout",
     "output_type": "stream",
     "text": [
      "   Early stopping at epoch 6\n",
      "   MSE: 0.001256\n",
      "\n",
      "📈 Testing combination 28/32: {'batch_size': 64, 'dropout_rate': 0.3, 'epochs': 20, 'learning_rate': 0.01, 'num_units': 64}\n"
     ]
    },
    {
     "name": "stderr",
     "output_type": "stream",
     "text": [
      "/home/qminh/miniconda3/envs/testtorch/lib/python3.10/site-packages/torch/nn/modules/rnn.py:123: UserWarning: dropout option adds dropout after all but last recurrent layer, so non-zero dropout expects num_layers greater than 1, but got dropout=0.3 and num_layers=1\n",
      "  warnings.warn(\n"
     ]
    },
    {
     "name": "stdout",
     "output_type": "stream",
     "text": [
      "   Early stopping at epoch 7\n",
      "   MSE: 0.002143\n",
      "\n",
      "📈 Testing combination 29/32: {'batch_size': 64, 'dropout_rate': 0.3, 'epochs': 30, 'learning_rate': 0.001, 'num_units': 32}\n"
     ]
    },
    {
     "name": "stderr",
     "output_type": "stream",
     "text": [
      "/home/qminh/miniconda3/envs/testtorch/lib/python3.10/site-packages/torch/nn/modules/rnn.py:123: UserWarning: dropout option adds dropout after all but last recurrent layer, so non-zero dropout expects num_layers greater than 1, but got dropout=0.3 and num_layers=1\n",
      "  warnings.warn(\n"
     ]
    },
    {
     "name": "stdout",
     "output_type": "stream",
     "text": [
      "   Early stopping at epoch 6\n",
      "   MSE: 0.010715\n",
      "\n",
      "📈 Testing combination 30/32: {'batch_size': 64, 'dropout_rate': 0.3, 'epochs': 30, 'learning_rate': 0.001, 'num_units': 64}\n"
     ]
    },
    {
     "name": "stderr",
     "output_type": "stream",
     "text": [
      "/home/qminh/miniconda3/envs/testtorch/lib/python3.10/site-packages/torch/nn/modules/rnn.py:123: UserWarning: dropout option adds dropout after all but last recurrent layer, so non-zero dropout expects num_layers greater than 1, but got dropout=0.3 and num_layers=1\n",
      "  warnings.warn(\n"
     ]
    },
    {
     "name": "stdout",
     "output_type": "stream",
     "text": [
      "   Early stopping at epoch 7\n",
      "   MSE: 0.002148\n",
      "\n",
      "📈 Testing combination 31/32: {'batch_size': 64, 'dropout_rate': 0.3, 'epochs': 30, 'learning_rate': 0.01, 'num_units': 32}\n"
     ]
    },
    {
     "name": "stderr",
     "output_type": "stream",
     "text": [
      "/home/qminh/miniconda3/envs/testtorch/lib/python3.10/site-packages/torch/nn/modules/rnn.py:123: UserWarning: dropout option adds dropout after all but last recurrent layer, so non-zero dropout expects num_layers greater than 1, but got dropout=0.3 and num_layers=1\n",
      "  warnings.warn(\n"
     ]
    },
    {
     "name": "stdout",
     "output_type": "stream",
     "text": [
      "   Early stopping at epoch 10\n",
      "   MSE: 0.005505\n",
      "\n",
      "📈 Testing combination 32/32: {'batch_size': 64, 'dropout_rate': 0.3, 'epochs': 30, 'learning_rate': 0.01, 'num_units': 64}\n"
     ]
    },
    {
     "name": "stderr",
     "output_type": "stream",
     "text": [
      "/home/qminh/miniconda3/envs/testtorch/lib/python3.10/site-packages/torch/nn/modules/rnn.py:123: UserWarning: dropout option adds dropout after all but last recurrent layer, so non-zero dropout expects num_layers greater than 1, but got dropout=0.3 and num_layers=1\n",
      "  warnings.warn(\n"
     ]
    },
    {
     "name": "stdout",
     "output_type": "stream",
     "text": [
      "   Early stopping at epoch 6\n",
      "   MSE: 0.001153\n",
      "\n",
      "🏆 Best Parameters: {'batch_size': 32, 'dropout_rate': 0.2, 'epochs': 30, 'learning_rate': 0.01, 'num_units': 32}\n",
      "🏆 Best MSE: 0.001060\n"
     ]
    }
   ],
   "source": [
    "# Run LSTM grid search\n",
    "best_params, best_score, best_model_state = lstm_grid_search(\n",
    "    param_grid=param_grid,\n",
    "    X_train=X_train,  # Your training features (samples, timesteps, features)\n",
    "    y_train=y_train,  # Your training targets\n",
    "    X_test=X_test,    # Your test features\n",
    "    y_test=y_test,    # Your test targets\n",
    "    input_size=len(features),  # Number of input features\n",
    "    future_window=future_window  # Output dimension\n",
    ")"
   ]
  }
 ],
 "metadata": {
  "kernelspec": {
   "display_name": "testtorch",
   "language": "python",
   "name": "python3"
  },
  "language_info": {
   "codemirror_mode": {
    "name": "ipython",
    "version": 3
   },
   "file_extension": ".py",
   "mimetype": "text/x-python",
   "name": "python",
   "nbconvert_exporter": "python",
   "pygments_lexer": "ipython3",
   "version": "3.10.18"
  }
 },
 "nbformat": 4,
 "nbformat_minor": 5
}
